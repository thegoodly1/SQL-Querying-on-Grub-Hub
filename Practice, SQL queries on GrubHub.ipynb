{
 "cells": [
  {
   "cell_type": "code",
   "execution_count": 1,
   "metadata": {
    "collapsed": true
   },
   "outputs": [],
   "source": [
    "from sqlalchemy import create_engine"
   ]
  },
  {
   "cell_type": "raw",
   "metadata": {
    "collapsed": false
   },
   "source": [
    "#engine = create_engine('postgres:blah blah blah this is secret')"
   ]
  },
  {
   "cell_type": "code",
   "execution_count": 3,
   "metadata": {
    "collapsed": false
   },
   "outputs": [],
   "source": [
    "import pandas as pd"
   ]
  },
  {
   "cell_type": "code",
   "execution_count": 4,
   "metadata": {
    "collapsed": true
   },
   "outputs": [],
   "source": [
    "sql = \"\"\"\n",
    "SELECT name, calories\n",
    "FROM foods\n",
    "WHERE name LIKE '%%Whop%%'\n",
    "ORDER BY calories DESC\n",
    ";\n",
    "\"\"\""
   ]
  },
  {
   "cell_type": "code",
   "execution_count": 84,
   "metadata": {
    "collapsed": false
   },
   "outputs": [
    {
     "data": {
      "text/html": [
       "<div>\n",
       "<table border=\"1\" class=\"dataframe\">\n",
       "  <thead>\n",
       "    <tr style=\"text-align: right;\">\n",
       "      <th></th>\n",
       "      <th>id</th>\n",
       "      <th>Foods</th>\n",
       "      <th>Restaurant</th>\n",
       "      <th>Category</th>\n",
       "      <th>carbs</th>\n",
       "      <th>calories</th>\n",
       "      <th>fat</th>\n",
       "    </tr>\n",
       "  </thead>\n",
       "  <tbody>\n",
       "    <tr>\n",
       "      <th>0</th>\n",
       "      <td>199</td>\n",
       "      <td>Chocolate Chip Cookie Sundae</td>\n",
       "      <td>Applebee's</td>\n",
       "      <td>Desserts</td>\n",
       "      <td>210</td>\n",
       "      <td>154</td>\n",
       "      <td>74</td>\n",
       "    </tr>\n",
       "    <tr>\n",
       "      <th>1</th>\n",
       "      <td>897</td>\n",
       "      <td>Whopper JR.® Sandwich with Cheese w/o Mayo</td>\n",
       "      <td>Burger King</td>\n",
       "      <td>Sandwiches</td>\n",
       "      <td>660</td>\n",
       "      <td>300</td>\n",
       "      <td>14</td>\n",
       "    </tr>\n",
       "    <tr>\n",
       "      <th>2</th>\n",
       "      <td>1692</td>\n",
       "      <td>Chili – Bowl</td>\n",
       "      <td>Dairy Queen</td>\n",
       "      <td>Soups</td>\n",
       "      <td>881</td>\n",
       "      <td>710</td>\n",
       "      <td>24</td>\n",
       "    </tr>\n",
       "    <tr>\n",
       "      <th>3</th>\n",
       "      <td>2741</td>\n",
       "      <td>Herbal Tea</td>\n",
       "      <td>IHOP</td>\n",
       "      <td>Drinks</td>\n",
       "      <td>2</td>\n",
       "      <td>0</td>\n",
       "      <td>0</td>\n",
       "    </tr>\n",
       "  </tbody>\n",
       "</table>\n",
       "</div>"
      ],
      "text/plain": [
       "     id                                       Foods   Restaurant    Category  \\\n",
       "0   199                Chocolate Chip Cookie Sundae   Applebee's    Desserts   \n",
       "1   897  Whopper JR.® Sandwich with Cheese w/o Mayo  Burger King  Sandwiches   \n",
       "2  1692                                Chili – Bowl  Dairy Queen       Soups   \n",
       "3  2741                                  Herbal Tea         IHOP      Drinks   \n",
       "\n",
       "   carbs  calories  fat  \n",
       "0    210       154   74  \n",
       "1    660       300   14  \n",
       "2    881       710   24  \n",
       "3      2         0    0  "
      ]
     },
     "execution_count": 84,
     "metadata": {},
     "output_type": "execute_result"
    }
   ],
   "source": [
    "df = pd.read_sql_query(sql, engine)\n",
    "df.head()"
   ]
  },
  {
   "cell_type": "code",
   "execution_count": 75,
   "metadata": {
    "collapsed": true
   },
   "outputs": [],
   "source": [
    "sql = \"\"\"\n",
    "SELECT name, calories, carbs, (calories/7) as \"One Bite\", calories/2 as \"Half Sandwich\"\n",
    "FROM foods\n",
    "WHERE name LIKE '%%Whop%%'\n",
    "ORDER BY calories DESC\n",
    ";\n",
    "\"\"\"\n",
    "df = pd.read_sql_query(sql, engine)\n",
    "df.head()"
   ]
  },
  {
   "cell_type": "code",
   "execution_count": 83,
   "metadata": {
    "collapsed": false
   },
   "outputs": [
    {
     "data": {
      "text/html": [
       "<div>\n",
       "<table border=\"1\" class=\"dataframe\">\n",
       "  <thead>\n",
       "    <tr style=\"text-align: right;\">\n",
       "      <th></th>\n",
       "      <th>id</th>\n",
       "      <th>Foods</th>\n",
       "      <th>Restaurant</th>\n",
       "      <th>Category</th>\n",
       "      <th>carbs</th>\n",
       "      <th>calories</th>\n",
       "      <th>fat</th>\n",
       "    </tr>\n",
       "  </thead>\n",
       "  <tbody>\n",
       "    <tr>\n",
       "      <th>0</th>\n",
       "      <td>199</td>\n",
       "      <td>Chocolate Chip Cookie Sundae</td>\n",
       "      <td>Applebee's</td>\n",
       "      <td>Desserts</td>\n",
       "      <td>210</td>\n",
       "      <td>154</td>\n",
       "      <td>74</td>\n",
       "    </tr>\n",
       "    <tr>\n",
       "      <th>1</th>\n",
       "      <td>897</td>\n",
       "      <td>Whopper JR.® Sandwich with Cheese w/o Mayo</td>\n",
       "      <td>Burger King</td>\n",
       "      <td>Sandwiches</td>\n",
       "      <td>660</td>\n",
       "      <td>300</td>\n",
       "      <td>14</td>\n",
       "    </tr>\n",
       "    <tr>\n",
       "      <th>2</th>\n",
       "      <td>1692</td>\n",
       "      <td>Chili – Bowl</td>\n",
       "      <td>Dairy Queen</td>\n",
       "      <td>Soups</td>\n",
       "      <td>881</td>\n",
       "      <td>710</td>\n",
       "      <td>24</td>\n",
       "    </tr>\n",
       "    <tr>\n",
       "      <th>3</th>\n",
       "      <td>2741</td>\n",
       "      <td>Herbal Tea</td>\n",
       "      <td>IHOP</td>\n",
       "      <td>Drinks</td>\n",
       "      <td>2</td>\n",
       "      <td>0</td>\n",
       "      <td>0</td>\n",
       "    </tr>\n",
       "  </tbody>\n",
       "</table>\n",
       "</div>"
      ],
      "text/plain": [
       "     id                                       Foods   Restaurant    Category  \\\n",
       "0   199                Chocolate Chip Cookie Sundae   Applebee's    Desserts   \n",
       "1   897  Whopper JR.® Sandwich with Cheese w/o Mayo  Burger King  Sandwiches   \n",
       "2  1692                                Chili – Bowl  Dairy Queen       Soups   \n",
       "3  2741                                  Herbal Tea         IHOP      Drinks   \n",
       "\n",
       "   carbs  calories  fat  \n",
       "0    210       154   74  \n",
       "1    660       300   14  \n",
       "2    881       710   24  \n",
       "3      2         0    0  "
      ]
     },
     "execution_count": 83,
     "metadata": {},
     "output_type": "execute_result"
    }
   ],
   "source": [
    "sql = \"\"\"\n",
    "SELECT foods.id, foods.name as \"Foods\", restaurants.name as \"Restaurant\", categories.name as \"Category\", foods.carbs, foods.calories, foods.fat\n",
    "FROM foods\n",
    "INNER JOIN restaurants ON restaurants.id = foods.restaurant_id\n",
    "INNER JOIN categories ON categories.id = foods.category_id\n",
    "WHERE carbs > calories\n",
    ";\n",
    "\"\"\"\n",
    "\n",
    "df = pd.read_sql_query(sql, engine)\n",
    "df"
   ]
  },
  {
   "cell_type": "code",
   "execution_count": 82,
   "metadata": {
    "collapsed": false
   },
   "outputs": [
    {
     "data": {
      "text/html": [
       "<div>\n",
       "<table border=\"1\" class=\"dataframe\">\n",
       "  <thead>\n",
       "    <tr style=\"text-align: right;\">\n",
       "      <th></th>\n",
       "      <th>id</th>\n",
       "      <th>Foods</th>\n",
       "      <th>Restaurant</th>\n",
       "      <th>Category</th>\n",
       "      <th>carbs</th>\n",
       "      <th>calories</th>\n",
       "      <th>fat</th>\n",
       "    </tr>\n",
       "  </thead>\n",
       "  <tbody>\n",
       "    <tr>\n",
       "      <th>0</th>\n",
       "      <td>777</td>\n",
       "      <td>BK™ Ultimate Breakfast Platter</td>\n",
       "      <td>Burger King</td>\n",
       "      <td>Breakfast</td>\n",
       "      <td>134</td>\n",
       "      <td>1310</td>\n",
       "      <td>72</td>\n",
       "    </tr>\n",
       "    <tr>\n",
       "      <th>1</th>\n",
       "      <td>883</td>\n",
       "      <td>Texas Triple Whopper® Sandwich</td>\n",
       "      <td>Burger King</td>\n",
       "      <td>Sandwiches</td>\n",
       "      <td>50</td>\n",
       "      <td>1270</td>\n",
       "      <td>86</td>\n",
       "    </tr>\n",
       "    <tr>\n",
       "      <th>2</th>\n",
       "      <td>887</td>\n",
       "      <td>Triple Whopper® Sandwich With Cheese</td>\n",
       "      <td>Burger King</td>\n",
       "      <td>Sandwiches</td>\n",
       "      <td>53</td>\n",
       "      <td>1230</td>\n",
       "      <td>82</td>\n",
       "    </tr>\n",
       "    <tr>\n",
       "      <th>3</th>\n",
       "      <td>885</td>\n",
       "      <td>Triple Whopper® Sandwich</td>\n",
       "      <td>Burger King</td>\n",
       "      <td>Sandwiches</td>\n",
       "      <td>51</td>\n",
       "      <td>1140</td>\n",
       "      <td>75</td>\n",
       "    </tr>\n",
       "    <tr>\n",
       "      <th>4</th>\n",
       "      <td>888</td>\n",
       "      <td>Triple Whopper® Sandwich With Cheese w/o Mayo</td>\n",
       "      <td>Burger King</td>\n",
       "      <td>Sandwiches</td>\n",
       "      <td>53</td>\n",
       "      <td>1070</td>\n",
       "      <td>64</td>\n",
       "    </tr>\n",
       "  </tbody>\n",
       "</table>\n",
       "</div>"
      ],
      "text/plain": [
       "    id                                          Foods   Restaurant  \\\n",
       "0  777                 BK™ Ultimate Breakfast Platter  Burger King   \n",
       "1  883                 Texas Triple Whopper® Sandwich  Burger King   \n",
       "2  887           Triple Whopper® Sandwich With Cheese  Burger King   \n",
       "3  885                       Triple Whopper® Sandwich  Burger King   \n",
       "4  888  Triple Whopper® Sandwich With Cheese w/o Mayo  Burger King   \n",
       "\n",
       "     Category  carbs  calories  fat  \n",
       "0   Breakfast    134      1310   72  \n",
       "1  Sandwiches     50      1270   86  \n",
       "2  Sandwiches     53      1230   82  \n",
       "3  Sandwiches     51      1140   75  \n",
       "4  Sandwiches     53      1070   64  "
      ]
     },
     "execution_count": 82,
     "metadata": {},
     "output_type": "execute_result"
    }
   ],
   "source": [
    "sql = \"\"\"\n",
    "SELECT foods.id, foods.name as \"Foods\", restaurants.name as \"Restaurant\", categories.name as \"Category\", foods.carbs, foods.calories, foods.fat\n",
    "FROM foods\n",
    "INNER JOIN restaurants ON restaurants.id = foods.restaurant_id\n",
    "INNER JOIN categories ON categories.id = foods.category_id\n",
    "WHERE restaurants.name = 'Burger King' OR restaurants.name = 'Dairy Queen'\n",
    "AND categories.name = 'Drinks'\n",
    "ORDER BY calories DESC\n",
    ";\n",
    "\"\"\"\n",
    "\n",
    "df = pd.read_sql_query(sql, engine)\n",
    "df.head()"
   ]
  },
  {
   "cell_type": "code",
   "execution_count": 81,
   "metadata": {
    "collapsed": false
   },
   "outputs": [
    {
     "data": {
      "text/html": [
       "<div>\n",
       "<table border=\"1\" class=\"dataframe\">\n",
       "  <thead>\n",
       "    <tr style=\"text-align: right;\">\n",
       "      <th></th>\n",
       "      <th>name</th>\n",
       "      <th>avgcal</th>\n",
       "      <th>avgcarbs</th>\n",
       "      <th>avgfat</th>\n",
       "    </tr>\n",
       "  </thead>\n",
       "  <tbody>\n",
       "    <tr>\n",
       "      <th>0</th>\n",
       "      <td>Appetizers</td>\n",
       "      <td>807.920000</td>\n",
       "      <td>62.850000</td>\n",
       "      <td>47.315000</td>\n",
       "    </tr>\n",
       "    <tr>\n",
       "      <th>1</th>\n",
       "      <td>Breads</td>\n",
       "      <td>464.716981</td>\n",
       "      <td>85.415094</td>\n",
       "      <td>6.301887</td>\n",
       "    </tr>\n",
       "    <tr>\n",
       "      <th>2</th>\n",
       "      <td>Breakfast</td>\n",
       "      <td>554.472637</td>\n",
       "      <td>50.997468</td>\n",
       "      <td>31.388060</td>\n",
       "    </tr>\n",
       "    <tr>\n",
       "      <th>3</th>\n",
       "      <td>Breakfast Sandwiches</td>\n",
       "      <td>389.846154</td>\n",
       "      <td>68.084746</td>\n",
       "      <td>43.215385</td>\n",
       "    </tr>\n",
       "    <tr>\n",
       "      <th>4</th>\n",
       "      <td>Breakfast Tacos</td>\n",
       "      <td>492.571429</td>\n",
       "      <td>38.470588</td>\n",
       "      <td>25.904762</td>\n",
       "    </tr>\n",
       "  </tbody>\n",
       "</table>\n",
       "</div>"
      ],
      "text/plain": [
       "                   name      avgcal   avgcarbs     avgfat\n",
       "0            Appetizers  807.920000  62.850000  47.315000\n",
       "1                Breads  464.716981  85.415094   6.301887\n",
       "2             Breakfast  554.472637  50.997468  31.388060\n",
       "3  Breakfast Sandwiches  389.846154  68.084746  43.215385\n",
       "4       Breakfast Tacos  492.571429  38.470588  25.904762"
      ]
     },
     "execution_count": 81,
     "metadata": {},
     "output_type": "execute_result"
    }
   ],
   "source": [
    "sql = \"\"\"\n",
    "SELECT categories.name, AVG(foods.calories) as AvgCal, AVG(foods.carbs) as AvgCarbs, AVG(foods.fat) as AvgFat\n",
    "FROM categories\n",
    "INNER JOIN foods ON foods.category_id=categories.id\n",
    "GROUP BY categories.name\n",
    "ORDER BY categories.name\n",
    ";\n",
    "\"\"\"\n",
    "\n",
    "df = pd.read_sql_query(sql, engine)\n",
    "df.head()"
   ]
  },
  {
   "cell_type": "code",
   "execution_count": 80,
   "metadata": {
    "collapsed": false
   },
   "outputs": [
    {
     "data": {
      "text/html": [
       "<div>\n",
       "<table border=\"1\" class=\"dataframe\">\n",
       "  <thead>\n",
       "    <tr style=\"text-align: right;\">\n",
       "      <th></th>\n",
       "      <th>total_count</th>\n",
       "      <th>name</th>\n",
       "      <th>avgcal</th>\n",
       "      <th>avgcarbs</th>\n",
       "      <th>avgfat</th>\n",
       "    </tr>\n",
       "  </thead>\n",
       "  <tbody>\n",
       "    <tr>\n",
       "      <th>0</th>\n",
       "      <td>534</td>\n",
       "      <td>Sides</td>\n",
       "      <td>243.734082</td>\n",
       "      <td>27.942748</td>\n",
       "      <td>11.801498</td>\n",
       "    </tr>\n",
       "    <tr>\n",
       "      <th>1</th>\n",
       "      <td>524</td>\n",
       "      <td>Entrees</td>\n",
       "      <td>724.778626</td>\n",
       "      <td>53.019120</td>\n",
       "      <td>37.660305</td>\n",
       "    </tr>\n",
       "    <tr>\n",
       "      <th>2</th>\n",
       "      <td>488</td>\n",
       "      <td>Sandwiches</td>\n",
       "      <td>608.883197</td>\n",
       "      <td>55.796680</td>\n",
       "      <td>28.795082</td>\n",
       "    </tr>\n",
       "    <tr>\n",
       "      <th>3</th>\n",
       "      <td>402</td>\n",
       "      <td>Breakfast</td>\n",
       "      <td>554.472637</td>\n",
       "      <td>50.997468</td>\n",
       "      <td>31.388060</td>\n",
       "    </tr>\n",
       "    <tr>\n",
       "      <th>4</th>\n",
       "      <td>389</td>\n",
       "      <td>Desserts</td>\n",
       "      <td>480.691517</td>\n",
       "      <td>66.012953</td>\n",
       "      <td>22.408740</td>\n",
       "    </tr>\n",
       "  </tbody>\n",
       "</table>\n",
       "</div>"
      ],
      "text/plain": [
       "   total_count        name      avgcal   avgcarbs     avgfat\n",
       "0          534       Sides  243.734082  27.942748  11.801498\n",
       "1          524     Entrees  724.778626  53.019120  37.660305\n",
       "2          488  Sandwiches  608.883197  55.796680  28.795082\n",
       "3          402   Breakfast  554.472637  50.997468  31.388060\n",
       "4          389    Desserts  480.691517  66.012953  22.408740"
      ]
     },
     "execution_count": 80,
     "metadata": {},
     "output_type": "execute_result"
    }
   ],
   "source": [
    "sql = \"\"\"\n",
    "SELECT COUNT(categories.name) as total_count, categories.name, AVG(foods.calories) as AvgCal, AVG(foods.carbs) as AvgCarbs, AVG(foods.fat) as AvgFat\n",
    "FROM categories\n",
    "INNER JOIN foods ON foods.category_id=categories.id\n",
    "GROUP BY categories.name\n",
    "ORDER BY total_count DESC\n",
    ";\n",
    "\"\"\"\n",
    "\n",
    "df = pd.read_sql_query(sql, engine)\n",
    "df.head()"
   ]
  },
  {
   "cell_type": "code",
   "execution_count": 79,
   "metadata": {
    "collapsed": false
   },
   "outputs": [
    {
     "data": {
      "text/html": [
       "<div>\n",
       "<table border=\"1\" class=\"dataframe\">\n",
       "  <thead>\n",
       "    <tr style=\"text-align: right;\">\n",
       "      <th></th>\n",
       "      <th>name</th>\n",
       "      <th>avgfat</th>\n",
       "    </tr>\n",
       "  </thead>\n",
       "  <tbody>\n",
       "    <tr>\n",
       "      <th>0</th>\n",
       "      <td>Bojangle's Famous Chicken 'n Biscuits</td>\n",
       "      <td>540</td>\n",
       "    </tr>\n",
       "    <tr>\n",
       "      <th>1</th>\n",
       "      <td>Corner Bakery Cafe</td>\n",
       "      <td>490</td>\n",
       "    </tr>\n",
       "    <tr>\n",
       "      <th>2</th>\n",
       "      <td>Joe's Crab Shack</td>\n",
       "      <td>168</td>\n",
       "    </tr>\n",
       "    <tr>\n",
       "      <th>3</th>\n",
       "      <td>Applebee's</td>\n",
       "      <td>162</td>\n",
       "    </tr>\n",
       "    <tr>\n",
       "      <th>4</th>\n",
       "      <td>Buffalo Wild Wings</td>\n",
       "      <td>158</td>\n",
       "    </tr>\n",
       "  </tbody>\n",
       "</table>\n",
       "</div>"
      ],
      "text/plain": [
       "                                    name  avgfat\n",
       "0  Bojangle's Famous Chicken 'n Biscuits     540\n",
       "1                     Corner Bakery Cafe     490\n",
       "2                       Joe's Crab Shack     168\n",
       "3                             Applebee's     162\n",
       "4                     Buffalo Wild Wings     158"
      ]
     },
     "execution_count": 79,
     "metadata": {},
     "output_type": "execute_result"
    }
   ],
   "source": [
    "sql = \"\"\"\n",
    "SELECT restaurants.name, MAX(foods.fat) as AvgFat\n",
    "FROM restaurants\n",
    "INNER JOIN foods ON foods.restaurant_id=restaurants.id\n",
    "GROUP BY restaurants.name\n",
    "ORDER BY AvgFat DESC\n",
    ";\n",
    "\"\"\"\n",
    "\n",
    "df = pd.read_sql_query(sql, engine)\n",
    "df.head()"
   ]
  },
  {
   "cell_type": "code",
   "execution_count": null,
   "metadata": {
    "collapsed": true
   },
   "outputs": [],
   "source": []
  }
 ],
 "metadata": {
  "kernelspec": {
   "display_name": "Python 2",
   "language": "python",
   "name": "python2"
  },
  "language_info": {
   "codemirror_mode": {
    "name": "ipython",
    "version": 2
   },
   "file_extension": ".py",
   "mimetype": "text/x-python",
   "name": "python",
   "nbconvert_exporter": "python",
   "pygments_lexer": "ipython2",
   "version": "2.7.13"
  }
 },
 "nbformat": 4,
 "nbformat_minor": 2
}
